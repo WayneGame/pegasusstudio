{
  "nbformat": 4,
  "nbformat_minor": 0,
  "metadata": {
    "colab": {
      "name": "Untitled1.ipynb",
      "provenance": [],
      "collapsed_sections": [],
      "authorship_tag": "ABX9TyPmiECe1qj+uYJuYCYcdGjw",
      "include_colab_link": true
    },
    "kernelspec": {
      "name": "python3",
      "display_name": "Python 3"
    }
  },
  "cells": [
    {
      "cell_type": "markdown",
      "metadata": {
        "id": "view-in-github",
        "colab_type": "text"
      },
      "source": [
        "<a href=\"https://colab.research.google.com/github/WayneGame/pegasusstudio/blob/master/test.ipynb\" target=\"_parent\"><img src=\"https://colab.research.google.com/assets/colab-badge.svg\" alt=\"Open In Colab\"/></a>"
      ]
    },
    {
      "cell_type": "code",
      "metadata": {
        "id": "kRZ6AMel0A_C"
      },
      "source": [
        "!pip install spflow"
      ],
      "execution_count": null,
      "outputs": []
    },
    {
      "cell_type": "code",
      "metadata": {
        "colab": {
          "base_uri": "https://localhost:8080/"
        },
        "id": "KG7u2ZAH0xcN",
        "outputId": "a7e3180a-f8ad-4beb-b382-b81ed52a5aac"
      },
      "source": [
        "from spn.structure.leaves.parametric.Parametric import Categorical\r\n",
        "\r\n",
        "from spn.structure.Base import Sum, Product\r\n",
        "\r\n",
        "from spn.structure.Base import assign_ids, rebuild_scopes_bottom_up\r\n",
        "\r\n",
        "\r\n",
        "p0 = Product(children=[Categorical(p=[0.3, 0.7], scope=1), Categorical(p=[0.4, 0.6], scope=2)])\r\n",
        "p1 = Product(children=[Categorical(p=[0.5, 0.5], scope=1), Categorical(p=[0.6, 0.4], scope=2)])\r\n",
        "s1 = Sum(weights=[0.3, 0.7], children=[p0, p1])\r\n",
        "p2 = Product(children=[Categorical(p=[0.2, 0.8], scope=0), s1])\r\n",
        "p3 = Product(children=[Categorical(p=[0.2, 0.8], scope=0), Categorical(p=[0.3, 0.7], scope=1)])\r\n",
        "p4 = Product(children=[p3, Categorical(p=[0.4, 0.6], scope=2)])\r\n",
        "spn = Sum(weights=[0.4, 0.6], children=[p2, p4])\r\n",
        "\r\n",
        "assign_ids(spn)\r\n",
        "rebuild_scopes_bottom_up(spn)"
      ],
      "execution_count": 3,
      "outputs": [
        {
          "output_type": "execute_result",
          "data": {
            "text/plain": [
              "SumNode_0"
            ]
          },
          "metadata": {
            "tags": []
          },
          "execution_count": 3
        }
      ]
    },
    {
      "cell_type": "code",
      "metadata": {
        "id": "CxmnF4gl1F4y"
      },
      "source": [
        "from spn.algorithms.Marginalization import marginalize\r\n",
        "\r\n",
        "spn_marg = marginalize(spn, [1,2])"
      ],
      "execution_count": 4,
      "outputs": []
    },
    {
      "cell_type": "code",
      "metadata": {
        "colab": {
          "base_uri": "https://localhost:8080/",
          "height": 297
        },
        "id": "HtdlwK_z1IH7",
        "outputId": "9773d746-1671-4d9d-992d-8a6b9c91a110"
      },
      "source": [
        "import matplotlib.pyplot as plt\r\n",
        "from spn.io.Graphics import draw_spn\r\n",
        "\r\n",
        "draw_spn(spn_marg)\r\n",
        "plt.show()"
      ],
      "execution_count": 5,
      "outputs": [
        {
          "output_type": "display_data",
          "data": {
            "image/png": "[encoded data removed]",
            "text/plain": [
              "<Figure size 432x288 with 1 Axes>"
            ]
          },
          "metadata": {
            "tags": []
          }
        }
      ]
    },
    {
      "cell_type": "code",
      "metadata": {
        "id": "M4fvMDpT1aAC"
      },
      "source": [
        "import numpy as np\r\n",
        "test_data = np.array([1.0, 0.0, 1.0]).reshape(-1, 3)"
      ],
      "execution_count": 6,
      "outputs": []
    },
    {
      "cell_type": "code",
      "metadata": {
        "colab": {
          "base_uri": "https://localhost:8080/"
        },
        "id": "l4qVM6TW1jKp",
        "outputId": "cb9c48b1-f69f-4a72-88ee-5e47d019c42a"
      },
      "source": [
        "from spn.algorithms.Inference import log_likelihood\r\n",
        "import time\r\n",
        "\r\n",
        "start = time.time()\r\n",
        "\r\n",
        "ll = log_likelihood(spn, test_data)\r\n",
        "end = time.time()\r\n",
        "dif = end-start\r\n",
        "\r\n",
        "print(dif)\r\n",
        "print(ll, np.exp(ll))"
      ],
      "execution_count": 9,
      "outputs": [
        {
          "output_type": "stream",
          "text": [
            "0.0019121170043945312\n",
            "[[-1.90730501]] [[0.14848]]\n"
          ],
          "name": "stdout"
        }
      ]
    },
    {
      "cell_type": "code",
      "metadata": {
        "id": "svcm5Z_r1pv6"
      },
      "source": [
        ""
      ],
      "execution_count": 7,
      "outputs": []
    }
  ]
}